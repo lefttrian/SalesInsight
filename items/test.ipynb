{
 "cells": [
  {
   "cell_type": "code",
   "execution_count": 1,
   "outputs": [
    {
     "name": "stdout",
     "text": [
      "ok\n"
     ],
     "output_type": "stream"
    }
   ],
   "source": [
    "from items.models import Itemtrans\n",
    "import itertools as it\n",
    "import pandas as pd\n",
    "from django.db.models import F, Sum, FloatField, Case, When, Value, CharField, DecimalField, IntegerField, Avg\n",
    "import plotly.graph_objects as go\n",
    "from items.functions import  arima_best_model\n",
    "import itertools as it\n",
    "import warnings\n",
    "import statsmodels.api as sm\n",
    "import numpy as np\n",
    "import pandas as pd\n",
    "import plotly.graph_objects as go\n",
    "from pandas import DataFrame\n",
    "from django.db.models import Max\n",
    "from scipy import stats\n",
    "from statsmodels.compat import lmap\n",
    "from statsmodels.tsa.arima_model import ARIMA\n",
    "from statsmodels.tsa.seasonal import seasonal_decompose\n",
    "from plotly.subplots import  make_subplots\n",
    "import plotly.offline as opy\n",
    "d1=pd.DataFrame(Itemtrans.objects.filter(iteid=45855).values('fyeid', 'fipid').annotate(\n",
    "            value=Sum(F('trnvalue') * F('outputvalmode'), output_field=FloatField())))\n",
    "d1['d'] = 1\n",
    "d1['firstofmonth'] = pd.to_datetime(dict(year=d1['fyeid'], month=d1['fipid'], day=d1['d']))\n",
    "d1 = d1.sort_values('firstofmonth')\n",
    "print('ok')"
   ],
   "metadata": {
    "collapsed": false,
    "pycharm": {
     "name": "#%%\n",
     "is_executing": false
    }
   }
  },
  {
   "cell_type": "code",
   "execution_count": null,
   "outputs": [],
   "source": [
    "dd=arima_best_model(d1)"
   ],
   "metadata": {
    "collapsed": false,
    "pycharm": {
     "name": "#%%\n",
     "is_executing": true
    }
   }
  }
 ],
 "metadata": {
  "language_info": {
   "codemirror_mode": {
    "name": "ipython",
    "version": 2
   },
   "file_extension": ".py",
   "mimetype": "text/x-python",
   "name": "python",
   "nbconvert_exporter": "python",
   "pygments_lexer": "ipython2",
   "version": "2.7.6"
  },
  "kernelspec": {
   "name": "django_extensions",
   "language": "python",
   "display_name": "Django Shell-Plus"
  },
  "pycharm": {
   "stem_cell": {
    "cell_type": "raw",
    "source": [],
    "metadata": {
     "collapsed": false
    }
   }
  }
 },
 "nbformat": 4,
 "nbformat_minor": 0
}